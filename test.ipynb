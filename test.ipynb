{
 "cells": [
  {
   "cell_type": "code",
   "execution_count": 1,
   "metadata": {},
   "outputs": [
    {
     "name": "stdout",
     "output_type": "stream",
     "text": [
      "train_options: <options.TrainingOptions object at 0x7f12501d79a0>\n",
      "noise_config: []\n",
      "hidden_config: <options.HiDDenConfiguration object at 0x7f12501d7910>\n"
     ]
    }
   ],
   "source": [
    "import os\n",
    "import pickle\n",
    "from options import TrainingOptions,HiDDenConfiguration\n",
    "import os\n",
    "import sys\n",
    "sys.path.append(\"options.py\")\n",
    "\n",
    "start_epoch = 1\n",
    "train_options = TrainingOptions(\n",
    "    batch_size=1,\n",
    "    number_of_epochs=1,\n",
    "    train_folder=os.path.join('train/train_class'),\n",
    "    validation_folder=os.path.join( 'val/val_class'),\n",
    "    runs_folder=os.path.join('.', 'runs'),\n",
    "    start_epoch=2,\n",
    "    experiment_name=\"e11\",\n",
    "    device_num = 1,\n",
    "    pid = os.getpid())\n",
    "\n",
    "noise_config = []\n",
    "hidden_config = HiDDenConfiguration(H=2, W=1,\n",
    "                                    message_length=30,\n",
    "                                    encoder_blocks=4, encoder_channels=64,\n",
    "                                    decoder_blocks=7, decoder_channels=64,\n",
    "                                    use_discriminator=True,\n",
    "                                    use_vgg=False,\n",
    "                                    discriminator_blocks=3, discriminator_channels=64,\n",
    "                                    decoder_loss=1,\n",
    "                                    encoder_loss=20,\n",
    "                                    adversarial_loss=0.001,\n",
    "                                    encoder_name = \"213\",\n",
    "                                    decoder_name = 'decoder',\n",
    "                                    encoder_decoder_name = \"22\",\n",
    "                                    enable_fp16=True\n",
    "                                    )\n",
    "\n",
    "with open(\"TEST.pickle\", 'wb+') as f:\n",
    "    print(\"train_options:\", train_options)\n",
    "    print(\"noise_config:\", noise_config)\n",
    "    print(\"hidden_config:\", hidden_config)\n",
    "    pickle.dump(train_options, f)\n",
    "    pickle.dump(noise_config, f)\n",
    "    pickle.dump(hidden_config, f)\n"
   ]
  },
  {
   "cell_type": "code",
   "execution_count": 2,
   "metadata": {},
   "outputs": [],
   "source": [
    "with open(\"TEST.pickle\", 'rb') as f:\n",
    "    train_options_params = pickle.load(f)  # dict\n",
    "    noise_config = pickle.load(f)          # list (本来就是 [])\n",
    "    hidden_config_params = pickle.load(f)  # dict"
   ]
  },
  {
   "cell_type": "code",
   "execution_count": 4,
   "metadata": {},
   "outputs": [
    {
     "name": "stdout",
     "output_type": "stream",
     "text": [
      "dd\n"
     ]
    }
   ],
   "source": [
    "hidden_config_params.encoder_decoder_name = \"dd\"\n",
    "print(hidden_config_params.encoder_decoder_name )"
   ]
  }
 ],
 "metadata": {
  "kernelspec": {
   "display_name": "test",
   "language": "python",
   "name": "python3"
  },
  "language_info": {
   "codemirror_mode": {
    "name": "ipython",
    "version": 3
   },
   "file_extension": ".py",
   "mimetype": "text/x-python",
   "name": "python",
   "nbconvert_exporter": "python",
   "pygments_lexer": "ipython3",
   "version": "3.9.18"
  }
 },
 "nbformat": 4,
 "nbformat_minor": 2
}
