{
 "cells": [
  {
   "cell_type": "code",
   "execution_count": 1,
   "metadata": {},
   "outputs": [],
   "source": [
    "%load_ext autoreload\n",
    "%autoreload 2\n",
    "import os\n",
    "import os.path as osp\n",
    "import torch, torchvision\n",
    "import random\n",
    "import numpy as np\n",
    "import PIL.Image as PImage, PIL.ImageDraw as PImageDraw\n",
    "import torch\n",
    "import torch.nn\n",
    "import argparse\n",
    "import os\n",
    "import numpy as np\n",
    "from options import HiDDenConfiguration\n",
    "\n",
    "import utils\n",
    "from model.hidden import *\n",
    "from noise_layers.noiser import Noiser\n",
    "from PIL import Image\n",
    "import torchvision.transforms.functional as TF\n",
    "import torchvision.transforms as transforms"
   ]
  },
  {
   "cell_type": "code",
   "execution_count": 2,
   "metadata": {},
   "outputs": [
    {
     "name": "stderr",
     "output_type": "stream",
     "text": [
      "/home/yw699/anaconda3/envs/test/lib/python3.9/site-packages/tqdm/auto.py:21: TqdmWarning: IProgress not found. Please update jupyter and ipywidgets. See https://ipywidgets.readthedocs.io/en/stable/user_install.html\n",
      "  from .autonotebook import tqdm as notebook_tqdm\n"
     ]
    },
    {
     "name": "stdout",
     "output_type": "stream",
     "text": [
      "\n",
      "[constructor]  ==== flash_if_available=True (0/24), fused_if_available=True (fusing_add_ln=0/24, fusing_mlp=0/24) ==== \n",
      "    [VAR config ] embed_dim=1536, num_heads=24, depth=24, mlp_ratio=4.0\n",
      "    [drop ratios ] drop_rate=0.0, attn_drop_rate=0.0, drop_path_rate=0.1 (tensor([0.0000, 0.0043, 0.0087, 0.0130, 0.0174, 0.0217, 0.0261, 0.0304, 0.0348,\n",
      "        0.0391, 0.0435, 0.0478, 0.0522, 0.0565, 0.0609, 0.0652, 0.0696, 0.0739,\n",
      "        0.0783, 0.0826, 0.0870, 0.0913, 0.0957, 0.1000]))\n",
      "\n",
      "[init_weights] VAR with init_std=0.0147314\n"
     ]
    },
    {
     "name": "stderr",
     "output_type": "stream",
     "text": [
      "/home/yw699/codes/VAR-Watermark/VAR_model/var_use.py:202: FutureWarning: You are using `torch.load` with `weights_only=False` (the current default value), which uses the default pickle module implicitly. It is possible to construct malicious pickle data which will execute arbitrary code during unpickling (See https://github.com/pytorch/pytorch/blob/main/SECURITY.md#untrusted-models for more details). In a future release, the default value for `weights_only` will be flipped to `True`. This limits the functions that could be executed during unpickling. Arbitrary objects will no longer be allowed to be loaded via this mode unless they are explicitly allowlisted by the user via `torch.serialization.add_safe_globals`. We recommend you start setting `weights_only=True` for any use case where you don't have full control of the loaded file. Please open an issue on GitHub for any issues related to this experimental feature.\n",
      "  vae.load_state_dict(torch.load(vae_ckpt, map_location='cpu'), strict=True)\n",
      "/home/yw699/codes/VAR-Watermark/VAR_model/var_use.py:203: FutureWarning: You are using `torch.load` with `weights_only=False` (the current default value), which uses the default pickle module implicitly. It is possible to construct malicious pickle data which will execute arbitrary code during unpickling (See https://github.com/pytorch/pytorch/blob/main/SECURITY.md#untrusted-models for more details). In a future release, the default value for `weights_only` will be flipped to `True`. This limits the functions that could be executed during unpickling. Arbitrary objects will no longer be allowed to be loaded via this mode unless they are explicitly allowlisted by the user via `torch.serialization.add_safe_globals`. We recommend you start setting `weights_only=True` for any use case where you don't have full control of the loaded file. Please open an issue on GitHub for any issues related to this experimental feature.\n",
      "  var.load_state_dict(torch.load(var_ckpt, map_location='cpu'), strict=True)\n"
     ]
    },
    {
     "name": "stdout",
     "output_type": "stream",
     "text": [
      "Models loaded and prepared.\n"
     ]
    }
   ],
   "source": [
    "from VAR_model.var_use import ImageEmbedding\n",
    "embedding_model = ImageEmbedding()"
   ]
  },
  {
   "cell_type": "code",
   "execution_count": 3,
   "metadata": {},
   "outputs": [],
   "source": [
    "device = torch.device('cpu')\n",
    "options_file = \"/home/yw699/codes/VAR-Watermark/runs/watermark 2024.12.17--15-42-23/options-and-config.pickle\"\n",
    "checkpoint_file =\"/home/yw699/codes/VAR-Watermark/runs/watermark 2024.12.17--15-42-23/checkpoints/watermark--epoch-300.pyt\" \n",
    "\n",
    "train_options, hidden_config, noise_config = utils.load_options(options_file)\n",
    "noiser = Noiser(noise_config,device)\n",
    "\n",
    "checkpoint = torch.load(checkpoint_file,weights_only=True)\n",
    "hidden_net = Hidden(hidden_config, device, noiser, None)\n",
    "\n",
    "utils.model_from_checkpoint(hidden_net, checkpoint)"
   ]
  },
  {
   "cell_type": "markdown",
   "metadata": {},
   "source": [
    "### Watermark"
   ]
  },
  {
   "cell_type": "code",
   "execution_count": 4,
   "metadata": {},
   "outputs": [],
   "source": [
    "def add_watermark(m,i):\n",
    "    m = m.to(device)\n",
    "    # losses, (encoded_images, noised_images, decoded_messages) = hidden_net.validate_on_batch([image_tensor, message])\n",
    "    encoded_images = hidden_net.encoder_decoder.encoder(i,m)\n",
    "    noised_and_cover = hidden_net.encoder_decoder.noiser([encoded_images, i])\n",
    "    noised_image = noised_and_cover[0]\n",
    "    return noised_image\n",
    "\n",
    "\n",
    "def get_watermark(image):\n",
    "    # losses, (encoded_images, noised_images, decoded_messages) = hidden_net.validate_on_batch([image_tensor, message])\n",
    "    decoded_message  = hidden_net.encoder_decoder.decoder(image)\n",
    "    \n",
    "    return decoded_message \n",
    "\n"
   ]
  },
  {
   "cell_type": "code",
   "execution_count": 5,
   "metadata": {},
   "outputs": [
    {
     "name": "stdout",
     "output_type": "stream",
     "text": [
      "Original Tensor Shape: torch.Size([10, 32, 16, 16])\n"
     ]
    }
   ],
   "source": [
    "source_image = \"/home/yw699/codes/VAR-Watermark/runs/watermark 2024.12.17--15-42-23/images/epoch-original-300.pt\"\n",
    "#source_image = \"/home/yw699/codes/VAR-Watermark/dataset/val/val_class/image0.pt\"\n",
    "batch = 1\n",
    "image_tensor = torch.load(source_image,weights_only=True)\n",
    "if image_tensor.dim() == 3:\n",
    "    image_tensor.unsqueeze_(0)\n",
    "if image_tensor.dim() == 4 and image_tensor.shape[0] > 10:\n",
    "    batch = 10\n",
    "    image_tensor = image_tensor[:batch]\n",
    "image_tensor = image_tensor.to(device)\n",
    "print(\"Original Tensor Shape:\", image_tensor.shape)\n",
    "\n"
   ]
  },
  {
   "cell_type": "markdown",
   "metadata": {},
   "source": [
    "### 1.直接加水印"
   ]
  },
  {
   "cell_type": "code",
   "execution_count": 6,
   "metadata": {},
   "outputs": [],
   "source": [
    "message = torch.Tensor(np.random.choice([0, 1], (image_tensor.shape[0],\n",
    "                                                    hidden_config.message_length))).to(device)\n",
    "\n",
    "encoded_images = add_watermark(message,image_tensor)"
   ]
  },
  {
   "cell_type": "code",
   "execution_count": 7,
   "metadata": {},
   "outputs": [],
   "source": [
    "decoded_message  = get_watermark(encoded_images)"
   ]
  },
  {
   "cell_type": "code",
   "execution_count": 8,
   "metadata": {},
   "outputs": [
    {
     "name": "stdout",
     "output_type": "stream",
     "text": [
      "error : 0.003\n",
      "bitwise_avg_err: 0.0033333334140479565\n"
     ]
    }
   ],
   "source": [
    "decoded_message  = get_watermark(encoded_images)\n",
    "decoded_rounded = decoded_message.detach().cpu().numpy().round().clip(0, 1)\n",
    "message_detached = message.detach().cpu().numpy()\n",
    "#print('decoded : {}'.format(decoded_rounded))\n",
    "print('error : {:.3f}'.format(np.mean(np.abs(decoded_rounded - message_detached))))\n",
    "\n",
    "bitwise_avg_err = np.sum(np.abs(decoded_rounded - message.detach().cpu().numpy()))/(image_tensor.shape[0] * message.shape[1])\n",
    "print(f\"bitwise_avg_err: {bitwise_avg_err}\")"
   ]
  },
  {
   "cell_type": "markdown",
   "metadata": {},
   "source": [
    "### 2.从图片提取水印"
   ]
  },
  {
   "cell_type": "code",
   "execution_count": 9,
   "metadata": {},
   "outputs": [
    {
     "name": "stdout",
     "output_type": "stream",
     "text": [
      "Original Tensor Shape: torch.Size([10, 32, 16, 16])\n"
     ]
    }
   ],
   "source": [
    "source_image = \"/home/yw699/codes/VAR-Watermark/runs/watermark 2024.12.17--15-42-23/images/epoch-original-300.pt\"\n",
    "#source_image = \"/home/yw699/codes/VAR-Watermark/dataset/val/val_class/image0.pt\"\n",
    "batch = 1\n",
    "image_tensor = torch.load(source_image,weights_only=True)\n",
    "if image_tensor.dim() == 3:\n",
    "    image_tensor.unsqueeze_(0)\n",
    "if image_tensor.dim() == 4 and image_tensor.shape[0] > 10:\n",
    "    batch = 10\n",
    "    image_tensor = image_tensor[:batch]\n",
    "image_tensor = image_tensor.to(device)\n",
    "print(\"Original Tensor Shape:\", image_tensor.shape)\n",
    "\n"
   ]
  },
  {
   "cell_type": "markdown",
   "metadata": {},
   "source": [
    "#### message & the image with watermark "
   ]
  },
  {
   "cell_type": "code",
   "execution_count": 10,
   "metadata": {},
   "outputs": [
    {
     "name": "stdout",
     "output_type": "stream",
     "text": [
      "Embedding Tensor Shape: torch.Size([10, 32, 16, 16])\n",
      "Image saved to watermark_image.png\n"
     ]
    }
   ],
   "source": [
    "message = torch.Tensor(np.random.choice([0, 1], (image_tensor.shape[0],\n",
    "                                                    hidden_config.message_length))).to(device)\n",
    "\n",
    "encoded_images = add_watermark(message,image_tensor)\n",
    "torch.save(encoded_images.cpu(), \"encoded_images.pt\") \n",
    "input_path_original = \"encoded_images.pt\"\n",
    "output ='watermark_image.png'\n",
    "image = embedding_model.embed_to_image(input_path_original,output)\n"
   ]
  },
  {
   "cell_type": "markdown",
   "metadata": {},
   "source": [
    "#### Read the decoded message from this image"
   ]
  },
  {
   "cell_type": "code",
   "execution_count": 11,
   "metadata": {},
   "outputs": [
    {
     "name": "stdout",
     "output_type": "stream",
     "text": [
      "(2560, 256)\n",
      "Image Tensor Shape: torch.Size([10, 3, 256, 256])\n",
      "Embedding saved to f.pt\n",
      "watermark_image_tensor: torch.Size([10, 32, 16, 16])\n"
     ]
    }
   ],
   "source": [
    "watermark_image_tensor = embedding_model.image_to_embed(output,\"f.pt\",batch).to(device)\n",
    "print(\"watermark_image_tensor:\", watermark_image_tensor.shape)\n",
    "\n",
    "decoded_message  = get_watermark(watermark_image_tensor)"
   ]
  },
  {
   "cell_type": "code",
   "execution_count": 12,
   "metadata": {},
   "outputs": [
    {
     "name": "stdout",
     "output_type": "stream",
     "text": [
      "error : 0.017\n",
      "bitwise_avg_err: 0.01666666753590107\n"
     ]
    }
   ],
   "source": [
    "decoded_message  = get_watermark(encoded_images)\n",
    "decoded_rounded = decoded_message.detach().cpu().numpy().round().clip(0, 1)\n",
    "message_detached = message.detach().cpu().numpy()\n",
    "\n",
    "print('error : {:.3f}'.format(np.mean(np.abs(decoded_rounded - message_detached))))\n",
    "\n",
    "bitwise_avg_err = np.sum(np.abs(decoded_rounded - message.detach().cpu().numpy()))/(image_tensor.shape[0] * message.shape[1])\n",
    "print(f\"bitwise_avg_err: {bitwise_avg_err}\")"
   ]
  }
 ],
 "metadata": {
  "kernelspec": {
   "display_name": "test",
   "language": "python",
   "name": "python3"
  },
  "language_info": {
   "codemirror_mode": {
    "name": "ipython",
    "version": 3
   },
   "file_extension": ".py",
   "mimetype": "text/x-python",
   "name": "python",
   "nbconvert_exporter": "python",
   "pygments_lexer": "ipython3",
   "version": "3.9.18"
  }
 },
 "nbformat": 4,
 "nbformat_minor": 2
}
