{
 "cells": [
  {
   "cell_type": "code",
   "execution_count": 1,
   "metadata": {},
   "outputs": [],
   "source": [
    "%load_ext autoreload\n",
    "%autoreload 2\n",
    "import os\n",
    "\n",
    "os.chdir('/home/yw699/codes/VAR-Watermark')  \n",
    "\n",
    "import os.path as osp\n",
    "import torch, torchvision\n",
    "import random\n",
    "import numpy as np\n",
    "import PIL.Image as PImage, PIL.ImageDraw as PImageDraw\n",
    "import torch\n",
    "import torch.nn\n",
    "import torch.nn as nn\n",
    "import argparse\n",
    "import numpy as np\n",
    "from options import HiDDenConfiguration\n",
    "\n",
    "import utils\n",
    "from model.hidden import *\n",
    "from noise_layers.noiser import Noiser\n",
    "from PIL import Image\n",
    "import torchvision.transforms.functional as TF\n",
    "import torchvision.transforms as transforms\n",
    "\n",
    "from test_tool.utils import *\n",
    "\n",
    "device = \"cuda:4\"\n",
    "\n"
   ]
  },
  {
   "cell_type": "code",
   "execution_count": 2,
   "metadata": {},
   "outputs": [
    {
     "name": "stderr",
     "output_type": "stream",
     "text": [
      "/home/yw699/anaconda3/envs/test/lib/python3.9/site-packages/tqdm/auto.py:21: TqdmWarning: IProgress not found. Please update jupyter and ipywidgets. See https://ipywidgets.readthedocs.io/en/stable/user_install.html\n",
      "  from .autonotebook import tqdm as notebook_tqdm\n"
     ]
    },
    {
     "name": "stdout",
     "output_type": "stream",
     "text": [
      "\n",
      "[constructor]  ==== flash_if_available=True (0/24), fused_if_available=True (fusing_add_ln=0/24, fusing_mlp=0/24) ==== \n",
      "    [VAR config ] embed_dim=1536, num_heads=24, depth=24, mlp_ratio=4.0\n",
      "    [drop ratios ] drop_rate=0.0, attn_drop_rate=0.0, drop_path_rate=0.1 (tensor([0.0000, 0.0043, 0.0087, 0.0130, 0.0174, 0.0217, 0.0261, 0.0304, 0.0348,\n",
      "        0.0391, 0.0435, 0.0478, 0.0522, 0.0565, 0.0609, 0.0652, 0.0696, 0.0739,\n",
      "        0.0783, 0.0826, 0.0870, 0.0913, 0.0957, 0.1000]))\n",
      "\n",
      "[init_weights] VAR with init_std=0.0147314\n"
     ]
    },
    {
     "name": "stderr",
     "output_type": "stream",
     "text": [
      "/home/yw699/codes/VAR-Watermark/VAR_model/var_use.py:50: FutureWarning: You are using `torch.load` with `weights_only=False` (the current default value), which uses the default pickle module implicitly. It is possible to construct malicious pickle data which will execute arbitrary code during unpickling (See https://github.com/pytorch/pytorch/blob/main/SECURITY.md#untrusted-models for more details). In a future release, the default value for `weights_only` will be flipped to `True`. This limits the functions that could be executed during unpickling. Arbitrary objects will no longer be allowed to be loaded via this mode unless they are explicitly allowlisted by the user via `torch.serialization.add_safe_globals`. We recommend you start setting `weights_only=True` for any use case where you don't have full control of the loaded file. Please open an issue on GitHub for any issues related to this experimental feature.\n",
      "  vae.load_state_dict(torch.load(vae_ckpt, map_location='cpu'), strict=True)\n",
      "/home/yw699/codes/VAR-Watermark/VAR_model/var_use.py:51: FutureWarning: You are using `torch.load` with `weights_only=False` (the current default value), which uses the default pickle module implicitly. It is possible to construct malicious pickle data which will execute arbitrary code during unpickling (See https://github.com/pytorch/pytorch/blob/main/SECURITY.md#untrusted-models for more details). In a future release, the default value for `weights_only` will be flipped to `True`. This limits the functions that could be executed during unpickling. Arbitrary objects will no longer be allowed to be loaded via this mode unless they are explicitly allowlisted by the user via `torch.serialization.add_safe_globals`. We recommend you start setting `weights_only=True` for any use case where you don't have full control of the loaded file. Please open an issue on GitHub for any issues related to this experimental feature.\n",
      "  var.load_state_dict(torch.load(var_ckpt, map_location='cpu'), strict=True)\n"
     ]
    },
    {
     "name": "stdout",
     "output_type": "stream",
     "text": [
      "Models loaded and prepared.\n"
     ]
    }
   ],
   "source": [
    "from VAR_model.var_use import VarTool\n",
    "var = VarTool(device = device)"
   ]
  },
  {
   "cell_type": "code",
   "execution_count": 6,
   "metadata": {},
   "outputs": [
    {
     "name": "stdout",
     "output_type": "stream",
     "text": [
      "Original Tensor Shape: torch.Size([32, 32, 16, 16])\n",
      "Original Tensor Shape: torch.Size([8, 32, 16, 16])\n",
      "Image(torch.Size([8, 3, 256, 256])) saved to 0.png\n",
      "Original Tensor Shape: torch.Size([32, 32, 16, 16])\n",
      "Original Tensor Shape: torch.Size([8, 32, 16, 16])\n",
      "Image(torch.Size([8, 3, 256, 256])) saved to 1.png\n"
     ]
    }
   ],
   "source": [
    "base_path = \"/home/yw699/codes/VAR-Watermark/runs/d 2025.02.14--15-09-55\"\n",
    "fhat = load_fhat(\"/home/yw699/codes/VAR-Watermark/runs/d 2025.02.14--15-09-55/images/epoch-watermark-300.pt\",8,device)\n",
    "image = var.var_decoder(fhat)\n",
    "save(image,\"0.png\")\n",
    "\n",
    "fhat = load_fhat(\"/home/yw699/codes/VAR-Watermark/runs/d 2025.02.14--15-09-55/images/epoch-original-300.pt\",8,device)\n",
    "image = var.var_decoder(fhat)\n",
    "save(image,\"1.png\")\n"
   ]
  },
  {
   "cell_type": "code",
   "execution_count": null,
   "metadata": {},
   "outputs": [],
   "source": [
    "test_one_method(var,base_path,device,300,y1=0,y2=0.5)"
   ]
  }
 ],
 "metadata": {
  "kernelspec": {
   "display_name": "test",
   "language": "python",
   "name": "python3"
  },
  "language_info": {
   "codemirror_mode": {
    "name": "ipython",
    "version": 3
   },
   "file_extension": ".py",
   "mimetype": "text/x-python",
   "name": "python",
   "nbconvert_exporter": "python",
   "pygments_lexer": "ipython3",
   "version": "3.9.18"
  }
 },
 "nbformat": 4,
 "nbformat_minor": 2
}
